{
 "cells": [
  {
   "cell_type": "markdown",
   "metadata": {},
   "source": [
    "# pandas概要\n",
    "一种简洁高效的数据分析工具具备对一维或者多维数据进行索引、读取、整理、组合、数据分片等能力。\n",
    "毫无疑问，pandas是python程序员的强大工具：\n",
    "+ 具有相同数据类型数据集的高性能数组以及数据结构，比如Series。具有不同数据类型的数据集的数据结构，比如DataFrame对象\n",
    "+ 对表数据中的行和列进行插入、删除操作\n",
    "+ 基于层次的多维索引、层次索引\n",
    "+ 对缺失数据处理：定位、插值\n",
    "+ 强大的分组统计功能\n",
    "+ 数据分片和过滤\n",
    "+ 类似sql的merge和join功能\n",
    "+ 时间序列数据的处理（包括 data range generation, moving window statistic, time shifting, lagging）\n",
    "+ 读取和存储excel、csv、txt、数据库-mango-mysql等、hdfs5、json等格式文件\n",
    "+ 读取web文件，以及各种内置数据源包括Yahoo、google finance、world bank\n",
    "\n",
    "pandas与Scipy、Numpy、scikit-learn、matplotlib共同构成了数据科学工具栈。\n",
    "\n",
    "\n"
   ]
  },
  {
   "cell_type": "markdown",
   "metadata": {},
   "source": [
    "# Numpy概要\n",
    "Numpy是一个开源的python扩充程序库，主要用于科学计算的。它主要为python提供了高性能数组与矩阵运算处理能力。Numpy为python提供了真正的多维数组处理能力，内置了非常丰富的函数进行支持向量化方式的运算，这些函数能够直接对数组运算，同时那些需要在python上通过循环来做的运算，放到C语言环境中进行执行，性能极大提升。\n",
    "pandas大量运用了Numpy的数组来实现Series和DataFrame对象。Numpy同时也支持分片（slice）和向量化操作。因此，先了解Numpy中的数组和一些函数：\n",
    "+ 任意维数的数组（ndarray， n-dimensional array object）\n",
    "+ 通用函数对象（ufunc、universal function object）"
   ]
  },
  {
   "cell_type": "code",
   "execution_count": 3,
   "metadata": {
    "collapsed": true
   },
   "outputs": [],
   "source": [
    "import numpy as np"
   ]
  },
  {
   "cell_type": "code",
   "execution_count": 7,
   "metadata": {
    "collapsed": false
   },
   "outputs": [
    {
     "name": "stdout",
     "output_type": "stream",
     "text": [
      "1000 loops, best of 3: 1.34 ms per loop\n"
     ]
    }
   ],
   "source": [
    "def squares_inputs(inputs):\n",
    "    result = []\n",
    "    for i in inputs:\n",
    "        result.append(i * i)\n",
    "    return result\n",
    "s_inputs = range(10000)\n",
    "%timeit squares_inputs(s_inputs)"
   ]
  },
  {
   "cell_type": "code",
   "execution_count": 5,
   "metadata": {
    "collapsed": false
   },
   "outputs": [
    {
     "data": {
      "text/plain": [
       "range(0, 10000)"
      ]
     },
     "execution_count": 5,
     "metadata": {},
     "output_type": "execute_result"
    }
   ],
   "source": [
    "s_inputs"
   ]
  },
  {
   "cell_type": "code",
   "execution_count": 8,
   "metadata": {
    "collapsed": false
   },
   "outputs": [
    {
     "name": "stdout",
     "output_type": "stream",
     "text": [
      "The slowest run took 1764.54 times longer than the fastest. This could mean that an intermediate result is being cached.\n",
      "100000 loops, best of 3: 8.74 µs per loop\n"
     ]
    }
   ],
   "source": [
    "array_to_squares = np.arange(0,10000)\n",
    "%timeit array_to_squares **2"
   ]
  },
  {
   "cell_type": "code",
   "execution_count": null,
   "metadata": {
    "collapsed": true
   },
   "outputs": [],
   "source": []
  }
 ],
 "metadata": {
  "anaconda-cloud": {},
  "kernelspec": {
   "display_name": "Python [conda env:py3]",
   "language": "python",
   "name": "conda-env-py3-py"
  },
  "language_info": {
   "codemirror_mode": {
    "name": "ipython",
    "version": 3
   },
   "file_extension": ".py",
   "mimetype": "text/x-python",
   "name": "python",
   "nbconvert_exporter": "python",
   "pygments_lexer": "ipython3",
   "version": "3.5.2"
  }
 },
 "nbformat": 4,
 "nbformat_minor": 1
}
